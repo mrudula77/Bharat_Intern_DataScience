{
 "cells": [
  {
   "cell_type": "markdown",
   "id": "bab712cf",
   "metadata": {},
   "source": [
    "## Importing Libraries"
   ]
  },
  {
   "cell_type": "code",
   "execution_count": 10,
   "id": "0479ce4e",
   "metadata": {},
   "outputs": [
    {
     "name": "stdout",
     "output_type": "stream",
     "text": [
      "Requirement already satisfied: import_ipynb in c:\\users\\mrudula\\anaconda3\\lib\\site-packages (0.1.4)\n",
      "Requirement already satisfied: IPython in c:\\users\\mrudula\\anaconda3\\lib\\site-packages (from import_ipynb) (8.12.0)\n",
      "Requirement already satisfied: nbformat in c:\\users\\mrudula\\anaconda3\\lib\\site-packages (from import_ipynb) (5.7.0)\n",
      "Requirement already satisfied: backcall in c:\\users\\mrudula\\anaconda3\\lib\\site-packages (from IPython->import_ipynb) (0.2.0)\n",
      "Requirement already satisfied: decorator in c:\\users\\mrudula\\anaconda3\\lib\\site-packages (from IPython->import_ipynb) (5.1.1)\n",
      "Requirement already satisfied: jedi>=0.16 in c:\\users\\mrudula\\anaconda3\\lib\\site-packages (from IPython->import_ipynb) (0.18.1)\n",
      "Requirement already satisfied: matplotlib-inline in c:\\users\\mrudula\\anaconda3\\lib\\site-packages (from IPython->import_ipynb) (0.1.6)\n",
      "Requirement already satisfied: pickleshare in c:\\users\\mrudula\\anaconda3\\lib\\site-packages (from IPython->import_ipynb) (0.7.5)\n",
      "Requirement already satisfied: prompt-toolkit!=3.0.37,<3.1.0,>=3.0.30 in c:\\users\\mrudula\\anaconda3\\lib\\site-packages (from IPython->import_ipynb) (3.0.36)\n",
      "Requirement already satisfied: pygments>=2.4.0 in c:\\users\\mrudula\\anaconda3\\lib\\site-packages (from IPython->import_ipynb) (2.15.1)\n",
      "Requirement already satisfied: stack-data in c:\\users\\mrudula\\anaconda3\\lib\\site-packages (from IPython->import_ipynb) (0.2.0)\n",
      "Requirement already satisfied: traitlets>=5 in c:\\users\\mrudula\\anaconda3\\lib\\site-packages (from IPython->import_ipynb) (5.7.1)\n",
      "Requirement already satisfied: colorama in c:\\users\\mrudula\\anaconda3\\lib\\site-packages (from IPython->import_ipynb) (0.4.6)\n",
      "Requirement already satisfied: fastjsonschema in c:\\users\\mrudula\\anaconda3\\lib\\site-packages (from nbformat->import_ipynb) (2.16.2)\n",
      "Requirement already satisfied: jsonschema>=2.6 in c:\\users\\mrudula\\anaconda3\\lib\\site-packages (from nbformat->import_ipynb) (4.17.3)\n",
      "Requirement already satisfied: jupyter-core in c:\\users\\mrudula\\anaconda3\\lib\\site-packages (from nbformat->import_ipynb) (5.3.0)\n",
      "Requirement already satisfied: parso<0.9.0,>=0.8.0 in c:\\users\\mrudula\\anaconda3\\lib\\site-packages (from jedi>=0.16->IPython->import_ipynb) (0.8.3)\n",
      "Requirement already satisfied: attrs>=17.4.0 in c:\\users\\mrudula\\anaconda3\\lib\\site-packages (from jsonschema>=2.6->nbformat->import_ipynb) (22.1.0)\n",
      "Requirement already satisfied: pyrsistent!=0.17.0,!=0.17.1,!=0.17.2,>=0.14.0 in c:\\users\\mrudula\\anaconda3\\lib\\site-packages (from jsonschema>=2.6->nbformat->import_ipynb) (0.18.0)\n",
      "Requirement already satisfied: wcwidth in c:\\users\\mrudula\\anaconda3\\lib\\site-packages (from prompt-toolkit!=3.0.37,<3.1.0,>=3.0.30->IPython->import_ipynb) (0.2.5)\n",
      "Requirement already satisfied: platformdirs>=2.5 in c:\\users\\mrudula\\anaconda3\\lib\\site-packages (from jupyter-core->nbformat->import_ipynb) (2.5.2)\n",
      "Requirement already satisfied: pywin32>=300 in c:\\users\\mrudula\\anaconda3\\lib\\site-packages (from jupyter-core->nbformat->import_ipynb) (305.1)\n",
      "Requirement already satisfied: executing in c:\\users\\mrudula\\anaconda3\\lib\\site-packages (from stack-data->IPython->import_ipynb) (0.8.3)\n",
      "Requirement already satisfied: asttokens in c:\\users\\mrudula\\anaconda3\\lib\\site-packages (from stack-data->IPython->import_ipynb) (2.0.5)\n",
      "Requirement already satisfied: pure-eval in c:\\users\\mrudula\\anaconda3\\lib\\site-packages (from stack-data->IPython->import_ipynb) (0.2.2)\n",
      "Requirement already satisfied: six in c:\\users\\mrudula\\anaconda3\\lib\\site-packages (from asttokens->stack-data->IPython->import_ipynb) (1.16.0)\n"
     ]
    }
   ],
   "source": [
    "!pip install import_ipynb"
   ]
  },
  {
   "cell_type": "code",
   "execution_count": 11,
   "id": "8abf8e32",
   "metadata": {},
   "outputs": [],
   "source": [
    "from scipy.io import loadmat\n",
    "import numpy as np\n",
    "import import_ipynb\n",
    "from Model import neural_network\n",
    "from RandInitialize import initialise\n",
    "from Prediction import predict\n",
    "from scipy.optimize import minimize"
   ]
  },
  {
   "cell_type": "markdown",
   "id": "1ed29aaa",
   "metadata": {},
   "source": [
    "## Load Datasets"
   ]
  },
  {
   "cell_type": "code",
   "execution_count": 12,
   "id": "d903f1d6",
   "metadata": {},
   "outputs": [],
   "source": [
    "# Loading mat file\n",
    "data = loadmat('mnist-original.mat')"
   ]
  },
  {
   "cell_type": "markdown",
   "id": "f1ca4ef1",
   "metadata": {},
   "source": [
    "## Data Analysis"
   ]
  },
  {
   "cell_type": "code",
   "execution_count": 13,
   "id": "3c2dbf25",
   "metadata": {},
   "outputs": [],
   "source": [
    "# Extracting features from mat file\n",
    "X = data['data']\n",
    "X = X.transpose()"
   ]
  },
  {
   "cell_type": "code",
   "execution_count": 14,
   "id": "d7cfb5d7",
   "metadata": {},
   "outputs": [],
   "source": [
    "# Normalizing the data\n",
    "X = X / 255\n",
    "\n",
    "# Extracting labels from mat file\n",
    "y = data['label']\n",
    "y = y.flatten()"
   ]
  },
  {
   "cell_type": "code",
   "execution_count": 15,
   "id": "1c2a5d26",
   "metadata": {},
   "outputs": [],
   "source": [
    "# Splitting data into training set with 60,000 examples\n",
    "X_train = X[:60000, :]\n",
    "y_train = y[:60000]\n",
    "\n",
    "# Splitting data into testing set with 10,000 examples\n",
    "X_test = X[60000:, :]\n",
    "y_test = y[60000:]"
   ]
  },
  {
   "cell_type": "code",
   "execution_count": 16,
   "id": "f4575744",
   "metadata": {},
   "outputs": [],
   "source": [
    "m = X.shape[0]\n",
    "input_layer_size = 784 \n",
    "hidden_layer_size = 100\n",
    "num_labels = 10 "
   ]
  },
  {
   "cell_type": "code",
   "execution_count": 17,
   "id": "adc9a735",
   "metadata": {},
   "outputs": [],
   "source": [
    "# Randomly initialising Thetas\n",
    "initial_Theta1 = initialise(hidden_layer_size, input_layer_size)\n",
    "initial_Theta2 = initialise(num_labels, hidden_layer_size)"
   ]
  },
  {
   "cell_type": "code",
   "execution_count": 18,
   "id": "05d30dc5",
   "metadata": {},
   "outputs": [],
   "source": [
    "initial_nn_params = np.concatenate((initial_Theta1.flatten(), initial_Theta2.flatten()))\n",
    "maxiter = 100\n",
    "lambda_reg = 0.1 # To avoid overfitting\n",
    "myargs = (input_layer_size, hidden_layer_size, num_labels, X_train, y_train, lambda_reg)"
   ]
  },
  {
   "cell_type": "code",
   "execution_count": 19,
   "id": "9b8e59cf",
   "metadata": {},
   "outputs": [],
   "source": [
    "results = minimize(neural_network, x0=initial_nn_params, args=myargs,\n",
    "        options={'disp': True, 'maxiter': maxiter}, method=\"L-BFGS-B\", jac=True)\n",
    "\n",
    "nn_params = results[\"x\"] "
   ]
  },
  {
   "cell_type": "code",
   "execution_count": 20,
   "id": "5ef3d051",
   "metadata": {},
   "outputs": [],
   "source": [
    "# Weights are split back to Theta1, Theta2\n",
    "Theta1 = np.reshape(nn_params[:hidden_layer_size * (input_layer_size + 1)], (\n",
    "                    hidden_layer_size, input_layer_size + 1)) # shape = (100, 785)\n",
    "Theta2 = np.reshape(nn_params[hidden_layer_size * (input_layer_size + 1):],\n",
    "                    (num_labels, hidden_layer_size + 1)) # shape = (10, 101)"
   ]
  },
  {
   "cell_type": "markdown",
   "id": "f4687511",
   "metadata": {},
   "source": [
    "## Test the Model"
   ]
  },
  {
   "cell_type": "code",
   "execution_count": 21,
   "id": "4bde80fb",
   "metadata": {},
   "outputs": [
    {
     "name": "stdout",
     "output_type": "stream",
     "text": [
      "Test Set Accuracy: 97.320000\n",
      "Training Set Accuracy: 99.416667\n"
     ]
    }
   ],
   "source": [
    "# Checking test set accuracy of our model\n",
    "pred = predict(Theta1, Theta2, X_test)\n",
    "print('Test Set Accuracy: {:f}'.format((np.mean(pred == y_test) * 100)))\n",
    "\n",
    "# Checking train set accuracy of our model\n",
    "pred = predict(Theta1, Theta2, X_train)\n",
    "print('Training Set Accuracy: {:f}'.format((np.mean(pred == y_train) * 100)))"
   ]
  },
  {
   "cell_type": "code",
   "execution_count": 22,
   "id": "fca941cf",
   "metadata": {},
   "outputs": [
    {
     "name": "stdout",
     "output_type": "stream",
     "text": [
      "Precision = 0.9941666666666666\n"
     ]
    }
   ],
   "source": [
    "# Evaluating precision of our model\n",
    "true_positive = 0\n",
    "for i in range(len(pred)):\n",
    "    if pred[i] == y_train[i]:\n",
    "        true_positive += 1\n",
    "false_positive = len(y_train) - true_positive\n",
    "print('Precision =', true_positive/(true_positive + false_positive))"
   ]
  },
  {
   "cell_type": "code",
   "execution_count": 23,
   "id": "6892b896",
   "metadata": {},
   "outputs": [],
   "source": [
    "# Saving Thetas in .txt file\n",
    "np.savetxt('Theta1.txt', Theta1, delimiter=' ')\n",
    "np.savetxt('Theta2.txt', Theta2, delimiter=' ')"
   ]
  }
 ],
 "metadata": {
  "kernelspec": {
   "display_name": "Python 3 (ipykernel)",
   "language": "python",
   "name": "python3"
  },
  "language_info": {
   "codemirror_mode": {
    "name": "ipython",
    "version": 3
   },
   "file_extension": ".py",
   "mimetype": "text/x-python",
   "name": "python",
   "nbconvert_exporter": "python",
   "pygments_lexer": "ipython3",
   "version": "3.11.3"
  }
 },
 "nbformat": 4,
 "nbformat_minor": 5
}
