{
 "cells": [
  {
   "cell_type": "code",
   "execution_count": 2,
   "id": "e2c2f0bf",
   "metadata": {},
   "outputs": [],
   "source": [
    "import numpy as np\n",
    "\n",
    "\n",
    "def neural_network(nn_params, input_layer_size, hidden_layer_size, num_labels, X, y, lamb):\n",
    "    # Weights are split back to Theta1, Theta2\n",
    "    Theta1 = np.reshape(nn_params[:hidden_layer_size * (input_layer_size + 1)],\n",
    "                        (hidden_layer_size, input_layer_size + 1))\n",
    "    Theta2 = np.reshape(nn_params[hidden_layer_size * (input_layer_size + 1):],\n",
    "                        (num_labels, hidden_layer_size + 1))\n",
    "\n",
    "    # Forward propagation\n",
    "    m = X.shape[0]\n",
    "    one_matrix = np.ones((m, 1))\n",
    "    X = np.append(one_matrix, X, axis=1) \n",
    "    a1 = X\n",
    "    z2 = np.dot(X, Theta1.transpose())\n",
    "    a2 = 1 / (1 + np.exp(-z2)) \n",
    "    one_matrix = np.ones((m, 1))\n",
    "    a2 = np.append(one_matrix, a2, axis=1) \n",
    "    z3 = np.dot(a2, Theta2.transpose())\n",
    "    a3 = 1 / (1 + np.exp(-z3)) \n",
    "\n",
    "    y_vect = np.zeros((m, 10))\n",
    "    for i in range(m):\n",
    "        y_vect[i, int(y[i])] = 1\n",
    "\n",
    "    # Calculating cost function\n",
    "    J = (1 / m) * (np.sum(np.sum(-y_vect * np.log(a3) - (1 - y_vect) * np.log(1 - a3)))) + (lamb / (2 * m)) * (\n",
    "                sum(sum(pow(Theta1[:, 1:], 2))) + sum(sum(pow(Theta2[:, 1:], 2))))\n",
    "\n",
    "    # backprop\n",
    "    Delta3 = a3 - y_vect\n",
    "    Delta2 = np.dot(Delta3, Theta2) * a2 * (1 - a2)\n",
    "    Delta2 = Delta2[:, 1:]\n",
    "\n",
    "    # gradient\n",
    "    Theta1[:, 0] = 0\n",
    "    Theta1_grad = (1 / m) * np.dot(Delta2.transpose(), a1) + (lamb / m) * Theta1\n",
    "    Theta2[:, 0] = 0\n",
    "    Theta2_grad = (1 / m) * np.dot(Delta3.transpose(), a2) + (lamb / m) * Theta2\n",
    "    grad = np.concatenate((Theta1_grad.flatten(), Theta2_grad.flatten()))\n",
    "\n",
    "    return J, grad\n"
   ]
  }
 ],
 "metadata": {
  "kernelspec": {
   "display_name": "Python 3 (ipykernel)",
   "language": "python",
   "name": "python3"
  },
  "language_info": {
   "codemirror_mode": {
    "name": "ipython",
    "version": 3
   },
   "file_extension": ".py",
   "mimetype": "text/x-python",
   "name": "python",
   "nbconvert_exporter": "python",
   "pygments_lexer": "ipython3",
   "version": "3.11.3"
  }
 },
 "nbformat": 4,
 "nbformat_minor": 5
}
